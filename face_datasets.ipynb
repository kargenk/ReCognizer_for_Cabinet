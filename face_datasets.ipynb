{
 "cells": [
  {
   "cell_type": "code",
   "execution_count": 1,
   "metadata": {},
   "outputs": [],
   "source": [
    "#!/usr/bin/env python3\n",
    "# -*- coding: utf-8 -*-"
   ]
  },
  {
   "cell_type": "code",
   "execution_count": 2,
   "metadata": {},
   "outputs": [],
   "source": [
    "import cv2\n",
    "import os"
   ]
  },
  {
   "cell_type": "code",
   "execution_count": 12,
   "metadata": {},
   "outputs": [
    {
     "name": "stdout",
     "output_type": "stream",
     "text": [
      "\n",
      " enter User ID : 1\n",
      "\n",
      " enter User Name : gengen\n",
      "\n",
      " [INFO] Initializing face capture. Look the camera and wait ...\n",
      "\n",
      " [INFO] Exiting program and clean up stuff\n"
     ]
    }
   ],
   "source": [
    "cam = cv2.VideoCapture(0)\n",
    "cam.set(3, 640)  # set video Width\n",
    "cam.set(4, 480)  # set video Height\n",
    "\n",
    "# read default haarcascade features\n",
    "face_cascade = cv2.CascadeClassifier('./cascade_data/haarcascade_frontalface_default.xml')\n",
    "\n",
    "# For each person, enter one numeric face id\n",
    "face_id = input('\\n enter User ID : ')\n",
    "user_name = input('\\n enter User Name : ')\n",
    "\n",
    "# make user datasets directory\n",
    "DATASETS_PATH = './datasets/' + user_name\n",
    "os.makedirs(DATASETS_PATH)\n",
    "\n",
    "print(\"\\n [INFO] Initializing face capture. Look the camera and wait ...\")\n",
    "\n",
    "count = 0\n",
    "while(True):\n",
    "    ret, img = cam.read()\n",
    "    gray = cv2.cvtColor(img, cv2.COLOR_BGR2GRAY)\n",
    "    faces = face_cascade.detectMultiScale(gray, 1.3, 5)\n",
    "    \n",
    "    # Save the captured face image(cripped) into the datasets folder\n",
    "    for (x,y,w,h) in faces:\n",
    "        cv2.rectangle(img, (x, y), (x+w, y+h), (255,0,0), 2)     \n",
    "        count += 1\n",
    "        cv2.imwrite(DATASETS_PATH + '/User_' + str(face_id) + '_' + str(count) + '.png', gray[y:y+h, x:x+w])\n",
    "        cv2.imshow('image', img)\n",
    "    \n",
    "    # Exit conditions\n",
    "    k = cv2.waitKey(100) & 0xff  # Press 'ESC' for exiting video\n",
    "    if k == 27:\n",
    "        break\n",
    "    elif count >= 100:            # Take 100 face sample and stop video\n",
    "         break\n",
    "            \n",
    "# clean up\n",
    "print(\"\\n [INFO] Exiting program and clean up stuff\")\n",
    "cam.release()\n",
    "cv2.destroyAllWindows()"
   ]
  },
  {
   "cell_type": "code",
   "execution_count": 6,
   "metadata": {},
   "outputs": [],
   "source": [
    "cam.release()\n",
    "cv2.destroyAllWindows()"
   ]
  },
  {
   "cell_type": "code",
   "execution_count": null,
   "metadata": {},
   "outputs": [],
   "source": []
  }
 ],
 "metadata": {
  "kernelspec": {
   "display_name": "Python 3",
   "language": "python",
   "name": "python3"
  },
  "language_info": {
   "codemirror_mode": {
    "name": "ipython",
    "version": 3
   },
   "file_extension": ".py",
   "mimetype": "text/x-python",
   "name": "python",
   "nbconvert_exporter": "python",
   "pygments_lexer": "ipython3",
   "version": "3.7.4"
  }
 },
 "nbformat": 4,
 "nbformat_minor": 2
}
