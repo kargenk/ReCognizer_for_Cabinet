{
 "cells": [
  {
   "cell_type": "code",
   "execution_count": 30,
   "metadata": {},
   "outputs": [],
   "source": [
    "#!/usr/bin/env python3\n",
    "# -*- coding: utf-8 -*-"
   ]
  },
  {
   "cell_type": "code",
   "execution_count": 31,
   "metadata": {},
   "outputs": [],
   "source": [
    "from keras.models import load_model\n",
    "from keras.preprocessing.image import load_img, img_to_array\n",
    "import numpy as np\n",
    "import cv2\n",
    "import os "
   ]
  },
  {
   "cell_type": "code",
   "execution_count": 32,
   "metadata": {},
   "outputs": [],
   "source": [
    "# face detection\n",
    "cascade_path = \"./cascade_data/haarcascade_frontalface_default.xml\"\n",
    "face_cascade = cv2.CascadeClassifier(cascade_path)\n",
    "\n",
    "# face recognizer\n",
    "model = load_model('./models/rcc_members.h5')"
   ]
  },
  {
   "cell_type": "code",
   "execution_count": 63,
   "metadata": {},
   "outputs": [
    {
     "name": "stdout",
     "output_type": "stream",
     "text": [
      "\n",
      " [INFO] Exiting Program and clean up stuff\n"
     ]
    }
   ],
   "source": [
    "# Initialize and start realtime video capture\n",
    "cam = cv2.VideoCapture(0)\n",
    "cam.set(3, 640)  # set video Widht\n",
    "cam.set(4, 480)  # set video Height\n",
    "\n",
    "# Define min window size to be recognized as a face\n",
    "minW = 0.1 * cam.get(3)\n",
    "minH = 0.1 * cam.get(4)\n",
    "\n",
    "while True:\n",
    "    ret, img =cam.read()\n",
    "    gray = cv2.cvtColor(img, cv2.COLOR_BGR2GRAY)\n",
    "    \n",
    "    faces = face_cascade.detectMultiScale( \n",
    "        gray,\n",
    "        scaleFactor = 1.2,\n",
    "        minNeighbors = 5,\n",
    "        minSize = (int(minW), int(minH)),\n",
    "       )\n",
    "    \n",
    "    for(x,y,w,h) in faces:\n",
    "        cv2.rectangle(img, (x,y), (x+w, y+h), (0, 255, 0), 2)\n",
    "        \n",
    "        \n",
    "#         cv2.putText(img, str(id), (x+5, y-5), font, 1, (255, 255, 255), 2)\n",
    "#         cv2.putText(img, str(confidence), (x+5, y+h-5), font, 1, (255, 255, 0), 1)\n",
    "    \n",
    "#     test = cv2.resize(img, dsize=(224, 224))\n",
    "    \n",
    "    cv2.imshow('camera', img) \n",
    "    k = cv2.waitKey(10) & 0xff  # Press 'ESC' for exiting video, 'Enter' for snapshot\n",
    "    if k == 27:\n",
    "        break\n",
    "    elif k == ord('s') and len(faces) > 0:\n",
    "        cv2.imwrite('./models/snap.png', img[y:y+h, x:x+w])\n",
    "        break\n",
    "        \n",
    "# Do a bit of cleanup\n",
    "print(\"\\n [INFO] Exiting Program and clean up stuff\")\n",
    "cam.release()\n",
    "cv2.destroyAllWindows()"
   ]
  },
  {
   "cell_type": "code",
   "execution_count": 65,
   "metadata": {},
   "outputs": [],
   "source": [
    "img = load_img('./models/snap.png', target_size=(224, 224))\n",
    "img_array = img_to_array(img) / 255  # range: [0, 255] -> [0, 1]\n",
    "img_tensor = img_array[None, ...]    # transform to 4-dim-tensor"
   ]
  },
  {
   "cell_type": "code",
   "execution_count": 66,
   "metadata": {},
   "outputs": [
    {
     "name": "stdout",
     "output_type": "stream",
     "text": [
      "name: ik\n",
      "[[0.15174964 0.47427595 0.06439251 0.30958197]]\n",
      "score: 0.47427595\n"
     ]
    }
   ],
   "source": [
    "label = ['gengen','ik', 'kyo', 'migly']\n",
    "pred = model.predict(img_tensor, batch_size=1, verbose=0)\n",
    "score = np.max(pred)\n",
    "pred_label = label[np.argmax(pred[0])]\n",
    "\n",
    "print('name:', pred_label)\n",
    "print(pred)\n",
    "print('score:',score)"
   ]
  },
  {
   "cell_type": "code",
   "execution_count": null,
   "metadata": {},
   "outputs": [],
   "source": []
  }
 ],
 "metadata": {
  "kernelspec": {
   "display_name": "Python 3",
   "language": "python",
   "name": "python3"
  },
  "language_info": {
   "codemirror_mode": {
    "name": "ipython",
    "version": 3
   },
   "file_extension": ".py",
   "mimetype": "text/x-python",
   "name": "python",
   "nbconvert_exporter": "python",
   "pygments_lexer": "ipython3",
   "version": "3.7.4"
  }
 },
 "nbformat": 4,
 "nbformat_minor": 2
}
