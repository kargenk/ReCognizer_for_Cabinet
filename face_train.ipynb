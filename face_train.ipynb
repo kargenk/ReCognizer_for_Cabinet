{
 "cells": [
  {
   "cell_type": "code",
   "execution_count": 1,
   "metadata": {},
   "outputs": [],
   "source": [
    "#!/usr/bin/env python3\n",
    "# -*- coding: utf-8 -*-"
   ]
  },
  {
   "cell_type": "code",
   "execution_count": 2,
   "metadata": {},
   "outputs": [],
   "source": [
    "from PIL import Image\n",
    "import numpy as np\n",
    "import cv2\n",
    "import os"
   ]
  },
  {
   "cell_type": "code",
   "execution_count": 14,
   "metadata": {},
   "outputs": [],
   "source": [
    "def get_images_and_labels(path):\n",
    "    image_paths = [os.path.join(path, f) for f in os.listdir(path)]     \n",
    "    face_samples = []\n",
    "    ids = []\n",
    "    for path in image_paths:\n",
    "        img_PIL = Image.open(path).convert('L')  # convert it to grayscale\n",
    "        img_numpy = np.array(img_PIL, 'uint8')\n",
    "        user_id = int(os.path.split(path)[-1].split('_')[1])\n",
    "        faces = detector.detectMultiScale(img_numpy)\n",
    "        for (x,y,w,h) in faces:\n",
    "            face_samples.append(img_numpy[y:y+h, x:x+w])\n",
    "            ids.append(user_id)\n",
    "    return face_samples, ids"
   ]
  },
  {
   "cell_type": "code",
   "execution_count": 13,
   "metadata": {},
   "outputs": [],
   "source": [
    "BASE_PATH = './datasets/'\n",
    "user_names = os.listdir(BASE_PATH)\n",
    "gengen_path = BASE_PATH + user_names[0] + '/gray/'\n",
    "\n",
    "recognizer = cv2.face.LBPHFaceRecognizer_create()\n",
    "detector = cv2.CascadeClassifier('./cascade_data/haarcascade_frontalface_default.xml');"
   ]
  },
  {
   "cell_type": "code",
   "execution_count": 16,
   "metadata": {},
   "outputs": [
    {
     "name": "stdout",
     "output_type": "stream",
     "text": [
      "\n",
      " [INFO] Training faces. It will take a few seconds. Wait ...\n",
      "\n",
      " [INFO] 1 faces trained. Exiting Program\n"
     ]
    }
   ],
   "source": [
    "print ('\\n [INFO] Training faces. It will take a few seconds. Wait ...')\n",
    "faces, ids = get_images_and_labels(gengen_path)\n",
    "recognizer.train(faces, np.array(ids))\n",
    "\n",
    "# Save the model into trainer/trainer.yml\n",
    "if not os.path.exists('trainer'):\n",
    "    os.mkdir('trainer')\n",
    "    recognizer.write('trainer/trainer.yml')\n",
    "\n",
    "# Print the numer of faces trained and end program\n",
    "print('\\n [INFO] {0} faces trained. Exiting Program'.format(len(np.unique(ids))))"
   ]
  },
  {
   "cell_type": "code",
   "execution_count": null,
   "metadata": {},
   "outputs": [],
   "source": []
  }
 ],
 "metadata": {
  "kernelspec": {
   "display_name": "Python 3",
   "language": "python",
   "name": "python3"
  },
  "language_info": {
   "codemirror_mode": {
    "name": "ipython",
    "version": 3
   },
   "file_extension": ".py",
   "mimetype": "text/x-python",
   "name": "python",
   "nbconvert_exporter": "python",
   "pygments_lexer": "ipython3",
   "version": "3.7.4"
  }
 },
 "nbformat": 4,
 "nbformat_minor": 2
}
